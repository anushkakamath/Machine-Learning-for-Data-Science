{
  "nbformat": 4,
  "nbformat_minor": 0,
  "metadata": {
    "colab": {
      "provenance": []
    },
    "kernelspec": {
      "name": "python3",
      "display_name": "Python 3"
    },
    "language_info": {
      "name": "python"
    },
    "accelerator": "GPU",
    "gpuClass": "standard"
  },
  "cells": [
    {
      "cell_type": "markdown",
      "source": [
        "### Name : Anushka Kamath\n",
        "### Github Username : anushkakamath\n",
        "### USC email id : arkamath@usc.edu\n",
        "### USC ID : 9418501008"
      ],
      "metadata": {
        "id": "KvJm1f-XCJ7T"
      }
    },
    {
      "cell_type": "code",
      "execution_count": 41,
      "metadata": {
        "id": "Y5oT3E898nZu",
        "colab": {
          "base_uri": "https://localhost:8080/"
        },
        "outputId": "2c2e7319-1d77-4df3-ddf6-c581b336a7b2"
      },
      "outputs": [
        {
          "output_type": "stream",
          "name": "stdout",
          "text": [
            "Looking in indexes: https://pypi.org/simple, https://us-python.pkg.dev/colab-wheels/public/simple/\n",
            "Requirement already satisfied: split-folders in /usr/local/lib/python3.8/dist-packages (0.5.1)\n"
          ]
        }
      ],
      "source": [
        "import tensorflow as tf \n",
        "from tensorflow import keras\n",
        "import numpy as np \n",
        "import os\n",
        "import shutil\n",
        "import glob\n",
        "!pip install split-folders\n",
        "import splitfolders\n",
        "import random\n",
        "import cv2\n",
        "import glob\n",
        "from skimage import io \n",
        "from skimage.transform import rotate, AffineTransform, warp\n",
        "from skimage import img_as_ubyte\n",
        "from skimage.util import random_noise\n",
        "from tensorflow.keras.preprocessing.image import ImageDataGenerator\n",
        "import tensorflow \n",
        "from tensorflow.keras.applications.vgg16 import VGG16\n",
        "from tensorflow.keras.models import Model\n",
        "from keras.callbacks import ModelCheckpoint, EarlyStopping\n",
        "from keras.layers import Dense, Dropout, Flatten, GlobalAveragePooling2D, BatchNormalization, MaxPooling2D\n",
        "from tensorflow.keras.applications import EfficientNetB0\n",
        "import matplotlib.pyplot as plt\n",
        "from keras.applications.vgg16 import preprocess_input\n",
        "from sklearn.metrics import precision_recall_fscore_support\n",
        "from google.colab import drive"
      ]
    },
    {
      "cell_type": "code",
      "source": [
        "drive.mount('/content/drive')"
      ],
      "metadata": {
        "colab": {
          "base_uri": "https://localhost:8080/"
        },
        "id": "Ju4cHJSerl7z",
        "outputId": "49e14e97-98b3-4e7a-eb63-f6f805be3272"
      },
      "execution_count": 11,
      "outputs": [
        {
          "output_type": "stream",
          "name": "stdout",
          "text": [
            "Drive already mounted at /content/drive; to attempt to forcibly remount, call drive.mount(\"/content/drive\", force_remount=True).\n"
          ]
        }
      ]
    },
    {
      "cell_type": "markdown",
      "source": [
        "https://stackoverflow.com/questions/49186905/loading-images-in-google-colab. \n",
        "\n",
        "https://stackoverflow.com/questions/53074712/. \n",
        "https://pypi.org/project/split-folders/ \n",
        " \n",
        "https://www.learndatasci.com/tutorials/convolutional-neural-networks-image-classification/. \n",
        "\n",
        "https://www.tensorflow.org/api_docs/python/tf/keras/preprocessing/image/ImageDataGenerator.   \n",
        "\n",
        "https://keras.io/api/preprocessing/image/.   \n",
        "\n",
        "https://stackoverflow.com/questions/50133385/preprocessing-images-generated-using-keras-function-imagedatagenerator-to-trai. \n"
      ],
      "metadata": {
        "id": "MZk6Or5WNgLO"
      }
    },
    {
      "cell_type": "code",
      "source": [
        "data_dir = '/content/drive/MyDrive/Colab Notebooks/Data/images'"
      ],
      "metadata": {
        "id": "r2AEf4DYLjMA"
      },
      "execution_count": 12,
      "outputs": []
    },
    {
      "cell_type": "code",
      "source": [
        "target_names = [item for item in os.listdir(data_dir) if os.path.isdir(os.path.join(data_dir, item))]\n",
        "#target_names"
      ],
      "metadata": {
        "id": "DnTMqPrBMXB3"
      },
      "execution_count": 13,
      "outputs": []
    },
    {
      "cell_type": "markdown",
      "source": [
        "https://piazza.com/class/l7149q4oxue34e/post/2023 \n",
        " \n",
        "https://stackoverflow.com/questions/53074712/how-to-split-folder-of-images-into-test-training-validation-sets-with-stratified"
      ],
      "metadata": {
        "id": "ZDdMqYbPxu-W"
      }
    },
    {
      "cell_type": "code",
      "source": [
        "output = '/content/drive/MyDrive/Colab Notebooks/Data/'+'output/'\n",
        "splitfolders.ratio(data_dir, output=output, ratio=(0.715, 0.16, 0.125)) "
      ],
      "metadata": {
        "colab": {
          "base_uri": "https://localhost:8080/"
        },
        "id": "sa1FdwyYrc4t",
        "outputId": "226b38a9-20a8-484a-e255-2c1a5f31baa2"
      },
      "execution_count": 16,
      "outputs": [
        {
          "output_type": "stream",
          "name": "stderr",
          "text": [
            "\n",
            "Copying files: 0 files [00:00, ? files/s]\u001b[A\n",
            "Copying files: 6 files [00:00, 57.04 files/s]\u001b[A\n",
            "Copying files: 16 files [00:00, 78.62 files/s]\u001b[A\n",
            "Copying files: 24 files [00:00, 72.42 files/s]\u001b[A\n",
            "Copying files: 33 files [00:00, 78.75 files/s]\u001b[A\n",
            "Copying files: 42 files [00:00, 80.86 files/s]\u001b[A\n",
            "Copying files: 51 files [00:00, 83.68 files/s]\u001b[A\n",
            "Copying files: 60 files [00:00, 78.58 files/s]\u001b[A\n",
            "Copying files: 69 files [00:00, 80.49 files/s]\u001b[A\n",
            "Copying files: 80 files [00:00, 85.41 files/s]\u001b[A\n",
            "Copying files: 93 files [00:01, 96.59 files/s]\u001b[A\n",
            "Copying files: 104 files [00:01, 99.82 files/s]\u001b[A\n",
            "Copying files: 115 files [00:01, 95.66 files/s]\u001b[A\n",
            "Copying files: 126 files [00:01, 99.05 files/s]\u001b[A\n",
            "Copying files: 136 files [00:01, 99.25 files/s]\u001b[A\n",
            "Copying files: 146 files [00:01, 97.58 files/s]\u001b[A\n",
            "Copying files: 157 files [00:01, 100.27 files/s]\u001b[A\n",
            "Copying files: 168 files [00:01, 100.47 files/s]\u001b[A\n",
            "Copying files: 179 files [00:01, 99.89 files/s] \u001b[A\n",
            "Copying files: 190 files [00:02, 102.53 files/s]\u001b[A\n",
            "Copying files: 201 files [00:02, 103.17 files/s]\u001b[A\n",
            "Copying files: 214 files [00:02, 103.93 files/s]\u001b[A\n",
            "Copying files: 226 files [00:02, 104.83 files/s]\u001b[A\n",
            "Copying files: 237 files [00:02, 104.79 files/s]\u001b[A\n",
            "Copying files: 248 files [00:02, 98.39 files/s] \u001b[A\n",
            "Copying files: 261 files [00:02, 106.49 files/s]\u001b[A\n",
            "Copying files: 272 files [00:02, 105.07 files/s]\u001b[A\n",
            "Copying files: 283 files [00:02, 101.38 files/s]\u001b[A\n",
            "Copying files: 297 files [00:03, 110.55 files/s]\u001b[A\n",
            "Copying files: 309 files [00:03, 98.23 files/s] \u001b[A\n",
            "Copying files: 320 files [00:03, 100.12 files/s]\u001b[A\n",
            "Copying files: 333 files [00:03, 101.49 files/s]\u001b[A\n",
            "Copying files: 346 files [00:03, 108.05 files/s]\u001b[A\n",
            "Copying files: 357 files [00:03, 106.06 files/s]\u001b[A\n",
            "Copying files: 368 files [00:03, 98.93 files/s] \u001b[A\n",
            "Copying files: 382 files [00:03, 107.67 files/s]\u001b[A\n",
            "Copying files: 393 files [00:04, 107.15 files/s]\u001b[A\n",
            "Copying files: 404 files [00:04, 102.66 files/s]\u001b[A\n",
            "Copying files: 417 files [00:04, 109.48 files/s]\u001b[A\n",
            "Copying files: 429 files [00:04, 100.18 files/s]\u001b[A\n",
            "Copying files: 440 files [00:04, 101.16 files/s]\u001b[A\n",
            "Copying files: 452 files [00:04, 104.47 files/s]\u001b[A\n",
            "Copying files: 463 files [00:04, 99.11 files/s] \u001b[A\n",
            "Copying files: 474 files [00:04, 85.17 files/s]\u001b[A\n",
            "Copying files: 486 files [00:05, 87.75 files/s]\u001b[A\n",
            "Copying files: 496 files [00:05, 86.55 files/s]\u001b[A\n",
            "Copying files: 505 files [00:05, 87.05 files/s]\u001b[A\n",
            "Copying files: 517 files [00:05, 94.91 files/s]\u001b[A\n",
            "Copying files: 527 files [00:05, 90.00 files/s]\u001b[A\n",
            "Copying files: 537 files [00:05, 91.85 files/s]\u001b[A\n",
            "Copying files: 547 files [00:05, 90.99 files/s]\u001b[A\n",
            "Copying files: 558 files [00:05, 94.58 files/s]\u001b[A\n",
            "Copying files: 571 files [00:05, 102.56 files/s]\u001b[A\n",
            "Copying files: 582 files [00:05, 100.77 files/s]\u001b[A\n",
            "Copying files: 593 files [00:06, 99.23 files/s] \u001b[A\n",
            "Copying files: 603 files [00:06, 99.00 files/s]\u001b[A\n",
            "Copying files: 613 files [00:06, 97.52 files/s]\u001b[A\n",
            "Copying files: 624 files [00:06, 99.61 files/s]\u001b[A\n",
            "Copying files: 635 files [00:06, 102.08 files/s]\u001b[A\n",
            "Copying files: 646 files [00:06, 99.57 files/s] \u001b[A\n",
            "Copying files: 656 files [00:06, 93.67 files/s]\u001b[A\n",
            "Copying files: 666 files [00:07, 67.59 files/s]\u001b[A\n",
            "Copying files: 675 files [00:07, 71.97 files/s]\u001b[A\n",
            "Copying files: 688 files [00:07, 84.82 files/s]\u001b[A\n",
            "Copying files: 699 files [00:07, 89.38 files/s]\u001b[A\n",
            "Copying files: 709 files [00:07, 90.59 files/s]\u001b[A\n",
            "Copying files: 719 files [00:07, 93.00 files/s]\u001b[A\n",
            "Copying files: 729 files [00:07, 90.33 files/s]\u001b[A\n",
            "Copying files: 742 files [00:07, 100.87 files/s]\u001b[A\n",
            "Copying files: 753 files [00:07, 101.07 files/s]\u001b[A\n",
            "Copying files: 764 files [00:07, 96.66 files/s] \u001b[A\n",
            "Copying files: 776 files [00:08, 99.53 files/s]\u001b[A\n",
            "Copying files: 787 files [00:08, 97.76 files/s]\u001b[A\n",
            "Copying files: 798 files [00:08, 99.36 files/s]\u001b[A\n",
            "Copying files: 811 files [00:08, 107.48 files/s]\u001b[A\n",
            "Copying files: 822 files [00:08, 99.76 files/s] \u001b[A\n",
            "Copying files: 833 files [00:08, 100.86 files/s]\u001b[A\n",
            "Copying files: 844 files [00:08, 96.76 files/s] \u001b[A\n",
            "Copying files: 855 files [00:08, 98.76 files/s]\u001b[A\n",
            "Copying files: 865 files [00:09, 97.96 files/s]\u001b[A\n",
            "Copying files: 877 files [00:09, 103.65 files/s]\u001b[A\n",
            "Copying files: 888 files [00:09, 101.83 files/s]\u001b[A\n",
            "Copying files: 899 files [00:09, 97.11 files/s] \u001b[A\n",
            "Copying files: 912 files [00:09, 104.83 files/s]\u001b[A\n",
            "Copying files: 923 files [00:09, 99.83 files/s] \u001b[A\n",
            "Copying files: 934 files [00:09, 102.24 files/s]\u001b[A\n",
            "Copying files: 946 files [00:09, 104.30 files/s]\u001b[A\n",
            "Copying files: 957 files [00:09, 101.37 files/s]\u001b[A\n",
            "Copying files: 968 files [00:10, 99.96 files/s] \u001b[A\n",
            "Copying files: 980 files [00:10, 103.45 files/s]\u001b[A\n",
            "Copying files: 991 files [00:10, 103.89 files/s]\u001b[A\n",
            "Copying files: 1002 files [00:10, 102.23 files/s]\u001b[A\n",
            "Copying files: 1013 files [00:10, 90.76 files/s] \u001b[A\n",
            "Copying files: 1023 files [00:10, 92.68 files/s]\u001b[A\n",
            "Copying files: 1033 files [00:10, 94.63 files/s]\u001b[A\n",
            "Copying files: 1045 files [00:10, 101.04 files/s]\u001b[A\n",
            "Copying files: 1056 files [00:10, 95.28 files/s] \u001b[A\n",
            "Copying files: 1066 files [00:11, 93.05 files/s]\u001b[A\n",
            "Copying files: 1076 files [00:11, 92.03 files/s]\u001b[A\n",
            "Copying files: 1086 files [00:11, 90.54 files/s]\u001b[A\n",
            "Copying files: 1096 files [00:11, 92.83 files/s]\u001b[A\n",
            "Copying files: 1106 files [00:11, 93.39 files/s]\u001b[A\n",
            "Copying files: 1116 files [00:11, 93.40 files/s]\u001b[A\n",
            "Copying files: 1126 files [00:11, 93.99 files/s]\u001b[A\n",
            "Copying files: 1136 files [00:11, 94.04 files/s]\u001b[A\n",
            "Copying files: 1149 files [00:11, 96.12 files/s]\u001b[A\n",
            "Copying files: 1163 files [00:12, 106.88 files/s]\u001b[A\n",
            "Copying files: 1176 files [00:12, 96.69 files/s] \n"
          ]
        }
      ]
    },
    {
      "cell_type": "markdown",
      "source": [
        "#VGG16 Implementation"
      ],
      "metadata": {
        "id": "O-U62U8P0DQi"
      }
    },
    {
      "cell_type": "markdown",
      "source": [
        "https://keras.io/api/data_loading/\n",
        "\n",
        "https://www.tensorflow.org/api_docs/python/tf/keras/preprocessing/image/ImageDataGenerator. \n",
        "\n",
        "https://keras.io/api/data_loading/image/\n",
        "\n",
        "https://datascience.stackexchange.com/questions/65979/what-is-the-correct-way-to-call-keras-flow-from-directory-method. \n",
        "\n",
        "https://www.learndatasci.com/tutorials/hands-on-transfer-learning-keras/\n",
        "\n",
        "\n",
        "https://towardsdatascience.com/step-by-step-vgg16-implementation-in-keras-for-beginners-a833c686ae6c\n",
        "\n",
        "https://towardsdatascience.com/transfer-learning-for-image-classification-using-keras-c47ccf09c8c8. \n",
        "\n",
        "https://towardsdatascience.com/categorical-encoding-using-label-encoding-and-one-hot-encoder-911ef77fb5bd\n",
        "\n",
        "https://towardsdatascience.com/transfer-learning-with-vgg16-and-keras-50ea161580b4 "
      ],
      "metadata": {
        "id": "FuDPmucjyRiy"
      }
    },
    {
      "cell_type": "code",
      "source": [
        "output = '/content/drive/MyDrive/Colab Notebooks/Data/'+'output/'\n",
        "\n",
        "train_generator = ImageDataGenerator(rotation_range=10, \n",
        "                                      width_shift_range=0.2, \n",
        "                                      height_shift_range=0.2,\n",
        "                                      zoom_range = 0.2,\n",
        "                                      horizontal_flip=True, \n",
        "                                      vertical_flip=True, \n",
        "                                      preprocessing_function=preprocess_input\n",
        "                                     )\n",
        "val_generator = ImageDataGenerator(preprocessing_function=preprocess_input)\n",
        "test_generator = ImageDataGenerator(preprocessing_function=preprocess_input)\n",
        "\n",
        "\n",
        "train_ds = train_generator.flow_from_directory(output + 'train/',\n",
        "                                                        target_size=(256, 256),\n",
        "                                                        class_mode='categorical',\n",
        "                                                        batch_size=5, \n",
        "                                                        shuffle=True,\n",
        "                                                        seed=42)\n",
        "valid_ds = val_generator.flow_from_directory(output + 'val/',\n",
        "                                                        target_size=(256, 256),\n",
        "                                                        class_mode='categorical',\n",
        "                                                        batch_size=5, \n",
        "                                                        shuffle=True,\n",
        "                                                        seed=42)\n",
        "test_ds = test_generator.flow_from_directory(output + 'test/',\n",
        "                                                        target_size=(256, 256),\n",
        "                                                        class_mode='categorical',\n",
        "                                                        batch_size=5, \n",
        "                                                        shuffle=False,\n",
        "                                                        seed=42)"
      ],
      "metadata": {
        "colab": {
          "base_uri": "https://localhost:8080/"
        },
        "id": "3UdiBqhFuJai",
        "outputId": "21162b89-323c-438a-a162-1dd1415bf5d3"
      },
      "execution_count": 29,
      "outputs": [
        {
          "output_type": "stream",
          "name": "stdout",
          "text": [
            "Found 827 images belonging to 20 classes.\n",
            "Found 178 images belonging to 20 classes.\n",
            "Found 171 images belonging to 20 classes.\n"
          ]
        }
      ]
    },
    {
      "cell_type": "code",
      "source": [
        "n_epochs = 50\n",
        "file_path = 'vgg-model.best-weights.hdf5'\n",
        "\n",
        "base_model = VGG16(weights=\"imagenet\", include_top=False)\n",
        "for layers in base_model.layers:\n",
        "  layers.trainable = False\n",
        "top_model = base_model.layers[-1].output\n",
        "\n",
        "vgg_model = GlobalAveragePooling2D()(top_model)\n",
        "vgg_model = Dense(1024, activation='relu')(vgg_model)\n",
        "vgg_model = BatchNormalization()(vgg_model)\n",
        "vgg_model = Dropout(0.2)(vgg_model)\n",
        "vgg_model = Dense(20, activation='softmax')(vgg_model)\n",
        "\n",
        "vgg_model_16 = Model(base_model.input, vgg_model)\n",
        "vgg_model_16.compile(optimizer='adam', loss='categorical_crossentropy', metrics=['acc'])\n",
        "\n",
        "checkpoint = ModelCheckpoint(filepath=file_path, save_best_only=True, verbose=1, monitor = 'val_acc', mode='max')\n",
        "early_stop = EarlyStopping(monitor='loss', patience=5)\n",
        "vgg_history = vgg_model_16.fit(train_ds, epochs=n_epochs,\n",
        "                        validation_data=valid_ds,\n",
        "                        callbacks=[checkpoint, early_stop],\n",
        "                        verbose=1)"
      ],
      "metadata": {
        "colab": {
          "base_uri": "https://localhost:8080/"
        },
        "id": "rhqm7CtAM6Pg",
        "outputId": "741b3485-4dac-45c5-db3e-010583234eec"
      },
      "execution_count": 30,
      "outputs": [
        {
          "output_type": "stream",
          "name": "stdout",
          "text": [
            "Epoch 1/50\n",
            "166/166 [==============================] - ETA: 0s - loss: 1.9261 - acc: 0.4631\n",
            "Epoch 1: val_acc improved from -inf to 0.74719, saving model to vgg-model.best-weights.hdf5\n",
            "166/166 [==============================] - 23s 129ms/step - loss: 1.9261 - acc: 0.4631 - val_loss: 0.8060 - val_acc: 0.7472\n",
            "Epoch 2/50\n",
            "166/166 [==============================] - ETA: 0s - loss: 1.0607 - acc: 0.6929\n",
            "Epoch 2: val_acc did not improve from 0.74719\n",
            "166/166 [==============================] - 20s 122ms/step - loss: 1.0607 - acc: 0.6929 - val_loss: 0.7631 - val_acc: 0.7472\n",
            "Epoch 3/50\n",
            "166/166 [==============================] - ETA: 0s - loss: 0.9061 - acc: 0.7207\n",
            "Epoch 3: val_acc improved from 0.74719 to 0.78652, saving model to vgg-model.best-weights.hdf5\n",
            "166/166 [==============================] - 20s 123ms/step - loss: 0.9061 - acc: 0.7207 - val_loss: 0.7700 - val_acc: 0.7865\n",
            "Epoch 4/50\n",
            "166/166 [==============================] - ETA: 0s - loss: 0.7557 - acc: 0.7751\n",
            "Epoch 4: val_acc improved from 0.78652 to 0.80337, saving model to vgg-model.best-weights.hdf5\n",
            "166/166 [==============================] - 20s 122ms/step - loss: 0.7557 - acc: 0.7751 - val_loss: 0.6354 - val_acc: 0.8034\n",
            "Epoch 5/50\n",
            "166/166 [==============================] - ETA: 0s - loss: 0.6648 - acc: 0.7981\n",
            "Epoch 5: val_acc did not improve from 0.80337\n",
            "166/166 [==============================] - 20s 120ms/step - loss: 0.6648 - acc: 0.7981 - val_loss: 0.7778 - val_acc: 0.7753\n",
            "Epoch 6/50\n",
            "166/166 [==============================] - ETA: 0s - loss: 0.6427 - acc: 0.7896\n",
            "Epoch 6: val_acc improved from 0.80337 to 0.83146, saving model to vgg-model.best-weights.hdf5\n",
            "166/166 [==============================] - 21s 124ms/step - loss: 0.6427 - acc: 0.7896 - val_loss: 0.5625 - val_acc: 0.8315\n",
            "Epoch 7/50\n",
            "166/166 [==============================] - ETA: 0s - loss: 0.5929 - acc: 0.8114\n",
            "Epoch 7: val_acc did not improve from 0.83146\n",
            "166/166 [==============================] - 21s 129ms/step - loss: 0.5929 - acc: 0.8114 - val_loss: 0.7480 - val_acc: 0.7640\n",
            "Epoch 8/50\n",
            "166/166 [==============================] - ETA: 0s - loss: 0.5641 - acc: 0.8356\n",
            "Epoch 8: val_acc did not improve from 0.83146\n",
            "166/166 [==============================] - 21s 125ms/step - loss: 0.5641 - acc: 0.8356 - val_loss: 0.6414 - val_acc: 0.7809\n",
            "Epoch 9/50\n",
            "166/166 [==============================] - ETA: 0s - loss: 0.6090 - acc: 0.8041\n",
            "Epoch 9: val_acc did not improve from 0.83146\n",
            "166/166 [==============================] - 20s 118ms/step - loss: 0.6090 - acc: 0.8041 - val_loss: 0.6345 - val_acc: 0.7865\n",
            "Epoch 10/50\n",
            "166/166 [==============================] - ETA: 0s - loss: 0.5508 - acc: 0.8271\n",
            "Epoch 10: val_acc did not improve from 0.83146\n",
            "166/166 [==============================] - 20s 123ms/step - loss: 0.5508 - acc: 0.8271 - val_loss: 0.9278 - val_acc: 0.7022\n",
            "Epoch 11/50\n",
            "166/166 [==============================] - ETA: 0s - loss: 0.4813 - acc: 0.8489\n",
            "Epoch 11: val_acc did not improve from 0.83146\n",
            "166/166 [==============================] - 20s 120ms/step - loss: 0.4813 - acc: 0.8489 - val_loss: 0.7938 - val_acc: 0.7978\n",
            "Epoch 12/50\n",
            "166/166 [==============================] - ETA: 0s - loss: 0.5597 - acc: 0.8295\n",
            "Epoch 12: val_acc did not improve from 0.83146\n",
            "166/166 [==============================] - 22s 132ms/step - loss: 0.5597 - acc: 0.8295 - val_loss: 0.6196 - val_acc: 0.8202\n",
            "Epoch 13/50\n",
            "166/166 [==============================] - ETA: 0s - loss: 0.5249 - acc: 0.8343\n",
            "Epoch 13: val_acc did not improve from 0.83146\n",
            "166/166 [==============================] - 21s 129ms/step - loss: 0.5249 - acc: 0.8343 - val_loss: 0.6177 - val_acc: 0.8034\n",
            "Epoch 14/50\n",
            "166/166 [==============================] - ETA: 0s - loss: 0.4603 - acc: 0.8609\n",
            "Epoch 14: val_acc did not improve from 0.83146\n",
            "166/166 [==============================] - 20s 118ms/step - loss: 0.4603 - acc: 0.8609 - val_loss: 0.5242 - val_acc: 0.8258\n",
            "Epoch 15/50\n",
            "166/166 [==============================] - ETA: 0s - loss: 0.4942 - acc: 0.8464\n",
            "Epoch 15: val_acc did not improve from 0.83146\n",
            "166/166 [==============================] - 20s 118ms/step - loss: 0.4942 - acc: 0.8464 - val_loss: 0.5635 - val_acc: 0.8090\n",
            "Epoch 16/50\n",
            "166/166 [==============================] - ETA: 0s - loss: 0.4540 - acc: 0.8549\n",
            "Epoch 16: val_acc did not improve from 0.83146\n",
            "166/166 [==============================] - 20s 119ms/step - loss: 0.4540 - acc: 0.8549 - val_loss: 0.5589 - val_acc: 0.8258\n",
            "Epoch 17/50\n",
            "166/166 [==============================] - ETA: 0s - loss: 0.4434 - acc: 0.8597\n",
            "Epoch 17: val_acc did not improve from 0.83146\n",
            "166/166 [==============================] - 20s 118ms/step - loss: 0.4434 - acc: 0.8597 - val_loss: 0.7139 - val_acc: 0.8146\n",
            "Epoch 18/50\n",
            "166/166 [==============================] - ETA: 0s - loss: 0.4038 - acc: 0.8682\n",
            "Epoch 18: val_acc did not improve from 0.83146\n",
            "166/166 [==============================] - 21s 125ms/step - loss: 0.4038 - acc: 0.8682 - val_loss: 0.5798 - val_acc: 0.8202\n",
            "Epoch 19/50\n",
            "166/166 [==============================] - ETA: 0s - loss: 0.4527 - acc: 0.8609\n",
            "Epoch 19: val_acc did not improve from 0.83146\n",
            "166/166 [==============================] - 20s 122ms/step - loss: 0.4527 - acc: 0.8609 - val_loss: 0.7012 - val_acc: 0.7809\n",
            "Epoch 20/50\n",
            "166/166 [==============================] - ETA: 0s - loss: 0.4613 - acc: 0.8549\n",
            "Epoch 20: val_acc did not improve from 0.83146\n",
            "166/166 [==============================] - 22s 131ms/step - loss: 0.4613 - acc: 0.8549 - val_loss: 0.7128 - val_acc: 0.7809\n",
            "Epoch 21/50\n",
            "166/166 [==============================] - ETA: 0s - loss: 0.3882 - acc: 0.8803\n",
            "Epoch 21: val_acc did not improve from 0.83146\n",
            "166/166 [==============================] - 24s 144ms/step - loss: 0.3882 - acc: 0.8803 - val_loss: 0.6776 - val_acc: 0.8315\n",
            "Epoch 22/50\n",
            "166/166 [==============================] - ETA: 0s - loss: 0.3898 - acc: 0.8767\n",
            "Epoch 22: val_acc improved from 0.83146 to 0.84831, saving model to vgg-model.best-weights.hdf5\n",
            "166/166 [==============================] - 21s 129ms/step - loss: 0.3898 - acc: 0.8767 - val_loss: 0.5838 - val_acc: 0.8483\n",
            "Epoch 23/50\n",
            "166/166 [==============================] - ETA: 0s - loss: 0.3628 - acc: 0.8803\n",
            "Epoch 23: val_acc did not improve from 0.84831\n",
            "166/166 [==============================] - 24s 144ms/step - loss: 0.3628 - acc: 0.8803 - val_loss: 0.7750 - val_acc: 0.7921\n",
            "Epoch 24/50\n",
            "166/166 [==============================] - ETA: 0s - loss: 0.3625 - acc: 0.8888\n",
            "Epoch 24: val_acc did not improve from 0.84831\n",
            "166/166 [==============================] - 22s 131ms/step - loss: 0.3625 - acc: 0.8888 - val_loss: 0.7508 - val_acc: 0.7978\n",
            "Epoch 25/50\n",
            "166/166 [==============================] - ETA: 0s - loss: 0.3768 - acc: 0.8863\n",
            "Epoch 25: val_acc did not improve from 0.84831\n",
            "166/166 [==============================] - 24s 145ms/step - loss: 0.3768 - acc: 0.8863 - val_loss: 0.6772 - val_acc: 0.7978\n",
            "Epoch 26/50\n",
            "166/166 [==============================] - ETA: 0s - loss: 0.3933 - acc: 0.8742\n",
            "Epoch 26: val_acc did not improve from 0.84831\n",
            "166/166 [==============================] - 21s 129ms/step - loss: 0.3933 - acc: 0.8742 - val_loss: 0.9063 - val_acc: 0.7921\n",
            "Epoch 27/50\n",
            "166/166 [==============================] - ETA: 0s - loss: 0.4150 - acc: 0.8718\n",
            "Epoch 27: val_acc did not improve from 0.84831\n",
            "166/166 [==============================] - 21s 124ms/step - loss: 0.4150 - acc: 0.8718 - val_loss: 0.6329 - val_acc: 0.8258\n",
            "Epoch 28/50\n",
            "166/166 [==============================] - ETA: 0s - loss: 0.3747 - acc: 0.8791\n",
            "Epoch 28: val_acc did not improve from 0.84831\n",
            "166/166 [==============================] - 21s 126ms/step - loss: 0.3747 - acc: 0.8791 - val_loss: 0.7884 - val_acc: 0.7697\n",
            "Epoch 29/50\n",
            "166/166 [==============================] - ETA: 0s - loss: 0.4526 - acc: 0.8682\n",
            "Epoch 29: val_acc did not improve from 0.84831\n",
            "166/166 [==============================] - 20s 119ms/step - loss: 0.4526 - acc: 0.8682 - val_loss: 0.6248 - val_acc: 0.8258\n"
          ]
        }
      ]
    },
    {
      "cell_type": "markdown",
      "source": [
        "https://stackoverflow.com/questions/59813944/how-to-plot-training-error-and-validation-error-vs-number-of-epochs. \n",
        "\n",
        "https://stackoverflow.com/questions/54749649/how-to-plot-epoch-vs-val-acc-and-epoch-vs-val-loss-graph-in-cnn. \n"
      ],
      "metadata": {
        "id": "7FHMo98A_dRE"
      }
    },
    {
      "cell_type": "code",
      "source": [
        "acc = vgg_history.history['acc']\n",
        "val_acc = vgg_history.history['val_acc']\n",
        "error = [1 - a for a in acc]\n",
        "val_error = [1 - a for a in val_acc]\n",
        "loss = vgg_history.history['loss']\n",
        "val_loss = vgg_history.history['val_loss']\n",
        "epochs = range(len(acc))\n",
        "\n",
        "print(\"FOR VGG16 MODEL\")\n",
        "x = np.array(epochs)\n",
        "y = np.array(loss)\n",
        "plt.plot(x, y, 'b-', label = 'Training Loss')\n",
        "x1 = np.array(epochs)\n",
        "y1 = np.array(val_loss)\n",
        "plt.plot(x1, y1, 'g-', label = 'Validation Loss')\n",
        "plt.title('VGG16 Training and Validation Loss')\n",
        "plt.legend(loc = 'upper right', fontsize = 9)\n",
        "plt.xlabel('Epochs')\n",
        "plt.ylabel('Loss')\n",
        "plt.show()\n",
        "\n",
        "x = np.array(epochs)\n",
        "y = np.array(error)\n",
        "plt.plot(x, y, 'b-', label = 'Training Error')\n",
        "x1 = np.array(epochs)\n",
        "y1 = np.array(val_error)\n",
        "plt.plot(x1, y1, 'g-', label = 'Validation Error')\n",
        "plt.title('VGG16 Training and Validation Error')\n",
        "plt.legend(loc = 'upper right')\n",
        "plt.xlabel('Epochs')\n",
        "plt.ylabel('Error')\n",
        "plt.show()"
      ],
      "metadata": {
        "colab": {
          "base_uri": "https://localhost:8080/",
          "height": 591
        },
        "id": "tlswyxsWSIRy",
        "outputId": "741c3bbb-ca4f-4b82-bf48-5d6edad07d6d"
      },
      "execution_count": 39,
      "outputs": [
        {
          "output_type": "stream",
          "name": "stdout",
          "text": [
            "FOR VGG16 MODEL\n"
          ]
        },
        {
          "output_type": "display_data",
          "data": {
            "text/plain": [
              "<Figure size 432x288 with 1 Axes>"
            ],
            "image/png": "[encoded data removed]"
          },
          "metadata": {
            "needs_background": "light"
          }
        },
        {
          "output_type": "display_data",
          "data": {
            "text/plain": [
              "<Figure size 432x288 with 1 Axes>"
            ],
            "image/png": "[encoded data removed]"
          },
          "metadata": {
            "needs_background": "light"
          }
        }
      ]
    },
    {
      "cell_type": "markdown",
      "source": [
        "https://www.activestate.com/resources/quick-reads/how-to-use-a-model-to-do-predictions-with-keras/"
      ],
      "metadata": {
        "id": "OLw2Et-RARGz"
      }
    },
    {
      "cell_type": "code",
      "source": [
        "vgg_model_16.load_weights('vgg-model.best-weights.hdf5') \n",
        "pred = vgg_model_16.predict(test_ds)\n",
        "pred_label = pred.argmax(axis=-1)\n",
        "true_label = test_ds.classes"
      ],
      "metadata": {
        "colab": {
          "base_uri": "https://localhost:8080/"
        },
        "id": "M4f9HeTFSIPc",
        "outputId": "e1c82796-44b9-4c5c-eabf-d6e140ae1ae6"
      },
      "execution_count": 35,
      "outputs": [
        {
          "output_type": "stream",
          "name": "stdout",
          "text": [
            "35/35 [==============================] - 2s 60ms/step\n"
          ]
        }
      ]
    },
    {
      "cell_type": "markdown",
      "source": [
        "https://scikit-learn.org/stable/modules/generated/sklearn.metrics.precision_recall_fscore_support.html. \n",
        "\n",
        "https://stackoverflow.com/questions/47706099/how-are-the-outputs-of-precision-recall-fscore-support-in-sklearn-ordered. \n",
        "\n",
        "https://programtalk.com/python-more-examples/sklearn.metrics.precision_recall_fscore_support/?ipage=2"
      ],
      "metadata": {
        "id": "QjgDxvV70tku"
      }
    },
    {
      "cell_type": "code",
      "source": [
        "#FOR VGG\n",
        "from sklearn.metrics import precision_recall_fscore_support\n",
        "\n",
        "precision, recall, f1score, _ = precision_recall_fscore_support(true_label, pred_label, average=None)\n",
        "\n",
        "for i in range(len(precision)):\n",
        "    print(\"Class = \", i)\n",
        "    print(\"Precision = \", precision[i])\n",
        "    print(\"Recall = \", recall[i])\n",
        "    print(\"F1-score = \", f1score[i])\n",
        "    print(\" ----------------------------------  \")\n",
        "\n",
        "sm = sum(pred_label == true_label) \n",
        "accuracy = sm / len(true_label)\n",
        "print(\"Accuracy = \", accuracy)"
      ],
      "metadata": {
        "id": "f1VedkvjfkzO",
        "colab": {
          "base_uri": "https://localhost:8080/"
        },
        "outputId": "60716db8-3946-4c92-e434-a1ac410be8af"
      },
      "execution_count": 36,
      "outputs": [
        {
          "output_type": "stream",
          "name": "stdout",
          "text": [
            "Class =  0\n",
            "Precision =  0.8\n",
            "Recall =  0.6666666666666666\n",
            "F1-score =  0.7272727272727272\n",
            " ----------------------------------  \n",
            "Class =  1\n",
            "Precision =  0.8181818181818182\n",
            "Recall =  1.0\n",
            "F1-score =  0.9\n",
            " ----------------------------------  \n",
            "Class =  2\n",
            "Precision =  1.0\n",
            "Recall =  1.0\n",
            "F1-score =  1.0\n",
            " ----------------------------------  \n",
            "Class =  3\n",
            "Precision =  0.8571428571428571\n",
            "Recall =  0.75\n",
            "F1-score =  0.7999999999999999\n",
            " ----------------------------------  \n",
            "Class =  4\n",
            "Precision =  0.6666666666666666\n",
            "Recall =  0.6666666666666666\n",
            "F1-score =  0.6666666666666666\n",
            " ----------------------------------  \n",
            "Class =  5\n",
            "Precision =  1.0\n",
            "Recall =  0.7777777777777778\n",
            "F1-score =  0.8750000000000001\n",
            " ----------------------------------  \n",
            "Class =  6\n",
            "Precision =  0.9\n",
            "Recall =  1.0\n",
            "F1-score =  0.9473684210526316\n",
            " ----------------------------------  \n",
            "Class =  7\n",
            "Precision =  0.6666666666666666\n",
            "Recall =  0.8888888888888888\n",
            "F1-score =  0.761904761904762\n",
            " ----------------------------------  \n",
            "Class =  8\n",
            "Precision =  1.0\n",
            "Recall =  0.7777777777777778\n",
            "F1-score =  0.8750000000000001\n",
            " ----------------------------------  \n",
            "Class =  9\n",
            "Precision =  1.0\n",
            "Recall =  1.0\n",
            "F1-score =  1.0\n",
            " ----------------------------------  \n",
            "Class =  10\n",
            "Precision =  0.8888888888888888\n",
            "Recall =  0.8888888888888888\n",
            "F1-score =  0.8888888888888888\n",
            " ----------------------------------  \n",
            "Class =  11\n",
            "Precision =  0.9\n",
            "Recall =  1.0\n",
            "F1-score =  0.9473684210526316\n",
            " ----------------------------------  \n",
            "Class =  12\n",
            "Precision =  0.5333333333333333\n",
            "Recall =  0.8888888888888888\n",
            "F1-score =  0.6666666666666667\n",
            " ----------------------------------  \n",
            "Class =  13\n",
            "Precision =  0.7142857142857143\n",
            "Recall =  0.5555555555555556\n",
            "F1-score =  0.6250000000000001\n",
            " ----------------------------------  \n",
            "Class =  14\n",
            "Precision =  0.625\n",
            "Recall =  0.5555555555555556\n",
            "F1-score =  0.5882352941176471\n",
            " ----------------------------------  \n",
            "Class =  15\n",
            "Precision =  0.375\n",
            "Recall =  0.375\n",
            "F1-score =  0.375\n",
            " ----------------------------------  \n",
            "Class =  16\n",
            "Precision =  0.8888888888888888\n",
            "Recall =  1.0\n",
            "F1-score =  0.9411764705882353\n",
            " ----------------------------------  \n",
            "Class =  17\n",
            "Precision =  0.8333333333333334\n",
            "Recall =  0.625\n",
            "F1-score =  0.7142857142857143\n",
            " ----------------------------------  \n",
            "Class =  18\n",
            "Precision =  0.8571428571428571\n",
            "Recall =  0.6666666666666666\n",
            "F1-score =  0.75\n",
            " ----------------------------------  \n",
            "Class =  19\n",
            "Precision =  1.0\n",
            "Recall =  0.875\n",
            "F1-score =  0.9333333333333333\n",
            " ----------------------------------  \n",
            "Accuracy =  0.8011695906432749\n"
          ]
        }
      ]
    },
    {
      "cell_type": "code",
      "source": [],
      "metadata": {
        "id": "9FoT0AXhSHxA"
      },
      "execution_count": null,
      "outputs": []
    },
    {
      "cell_type": "markdown",
      "source": [
        "#EfficientNetB0 Implementation"
      ],
      "metadata": {
        "id": "1jCknAH179dw"
      }
    },
    {
      "cell_type": "markdown",
      "source": [
        "https://www.kaggle.com/code/lys620/efficientnet-with-keras. \n",
        "\n"
      ],
      "metadata": {
        "id": "TI7tHMFf2fva"
      }
    },
    {
      "cell_type": "code",
      "source": [
        "output = '/content/drive/MyDrive/Colab Notebooks/Data/'+'output/'\n",
        "\n",
        "train_generator = ImageDataGenerator(rotation_range=10, \n",
        "                                    width_shift_range=0.2, \n",
        "                                    height_shift_range=0.2,\n",
        "                                    zoom_range = 0.2,\n",
        "                                    horizontal_flip=True, \n",
        "                                    vertical_flip=True, \n",
        "                                    )\n",
        "val_generator = ImageDataGenerator()\n",
        "test_generator = ImageDataGenerator()\n",
        "\n",
        "\n",
        "train_ds = train_generator.flow_from_directory(output + 'train/',\n",
        "                                                        target_size=(256, 256),\n",
        "                                                        class_mode='categorical',\n",
        "                                                        batch_size=5, \n",
        "                                                        shuffle=True,\n",
        "                                                        seed=42)\n",
        "valid_ds = val_generator.flow_from_directory(output + 'val/',\n",
        "                                                        target_size=(256, 256),\n",
        "                                                        class_mode='categorical',\n",
        "                                                        batch_size=5, \n",
        "                                                        shuffle=True,\n",
        "                                                        seed=42)\n",
        "test_ds = test_generator.flow_from_directory(output + 'test/',\n",
        "                                                        target_size=(256, 256),\n",
        "                                                        class_mode='categorical',\n",
        "                                                        batch_size=5, \n",
        "                                                        shuffle=False,\n",
        "                                                        seed=42)"
      ],
      "metadata": {
        "colab": {
          "base_uri": "https://localhost:8080/"
        },
        "id": "6HuJmfeJSZxZ",
        "outputId": "676334db-763e-4acd-e26a-08e97a706e95"
      },
      "execution_count": 24,
      "outputs": [
        {
          "output_type": "stream",
          "name": "stdout",
          "text": [
            "Found 827 images belonging to 20 classes.\n",
            "Found 178 images belonging to 20 classes.\n",
            "Found 171 images belonging to 20 classes.\n"
          ]
        }
      ]
    },
    {
      "cell_type": "code",
      "source": [
        "eff_base_model = EfficientNetB0(include_top=False, weights='imagenet')\n",
        "file_path = 'effnet.model.best-weights.hdf5'\n",
        "n_epochs = 50\n",
        "for layers in eff_base_model.layers:\n",
        "  layers.trainable = False\n",
        "output_model = eff_base_model.layers[-1].output\n",
        "\n",
        "eff_model = GlobalAveragePooling2D()(output_model)\n",
        "eff_model = Flatten()(eff_model)\n",
        "eff_model = Dropout(0.2)(eff_model)\n",
        "eff_model = Dense(300, activation='relu')(eff_model)\n",
        "eff_model = BatchNormalization()(eff_model)\n",
        "eff_model = Dense(100, activation='relu')(eff_model)\n",
        "eff_model = BatchNormalization()(eff_model)\n",
        "eff_model = Dropout(0.2)(eff_model)\n",
        "eff_output_layer = Dense(20, activation='softmax')(eff_model)\n",
        "eff_model_b0 = Model(eff_base_model.input, eff_output_layer)\n",
        "eff_model_b0.compile(optimizer='adam', loss='categorical_crossentropy', metrics=['acc'])\n",
        "\n",
        "checkpoint_eff = ModelCheckpoint(filepath=file_path, save_best_only=True, verbose=1, monitor = 'val_acc', mode='max')\n",
        "early_stop_eff = EarlyStopping(monitor='loss', patience=5)\n",
        "eff_history = eff_model_b0.fit(train_ds, epochs=n_epochs,\n",
        "                        validation_data=valid_ds,\n",
        "                        callbacks=[checkpoint_eff, early_stop_eff],\n",
        "                        verbose=1)\n"
      ],
      "metadata": {
        "id": "JlcBS83Pzbqb",
        "colab": {
          "base_uri": "https://localhost:8080/"
        },
        "outputId": "8a5546c6-c272-45ae-d447-df601be48f78"
      },
      "execution_count": 25,
      "outputs": [
        {
          "output_type": "stream",
          "name": "stdout",
          "text": [
            "Downloading data from https://storage.googleapis.com/keras-applications/efficientnetb0_notop.h5\n",
            "16705208/16705208 [==============================] - 1s 0us/step\n",
            "Epoch 1/50\n",
            "166/166 [==============================] - ETA: 0s - loss: 2.1936 - acc: 0.3700\n",
            "Epoch 1: val_acc improved from -inf to 0.73596, saving model to effnet.model.best-weights.hdf5\n",
            "166/166 [==============================] - 28s 132ms/step - loss: 2.1936 - acc: 0.3700 - val_loss: 0.9650 - val_acc: 0.7360\n",
            "Epoch 2/50\n",
            "166/166 [==============================] - ETA: 0s - loss: 1.2381 - acc: 0.6300\n",
            "Epoch 2: val_acc improved from 0.73596 to 0.85393, saving model to effnet.model.best-weights.hdf5\n",
            "166/166 [==============================] - 21s 125ms/step - loss: 1.2381 - acc: 0.6300 - val_loss: 0.5265 - val_acc: 0.8539\n",
            "Epoch 3/50\n",
            "166/166 [==============================] - ETA: 0s - loss: 1.0864 - acc: 0.6530\n",
            "Epoch 3: val_acc improved from 0.85393 to 0.85955, saving model to effnet.model.best-weights.hdf5\n",
            "166/166 [==============================] - 22s 133ms/step - loss: 1.0864 - acc: 0.6530 - val_loss: 0.4715 - val_acc: 0.8596\n",
            "Epoch 4/50\n",
            "166/166 [==============================] - ETA: 0s - loss: 0.9271 - acc: 0.7243\n",
            "Epoch 4: val_acc did not improve from 0.85955\n",
            "166/166 [==============================] - 20s 121ms/step - loss: 0.9271 - acc: 0.7243 - val_loss: 0.4451 - val_acc: 0.8596\n",
            "Epoch 5/50\n",
            "166/166 [==============================] - ETA: 0s - loss: 0.8038 - acc: 0.7582\n",
            "Epoch 5: val_acc improved from 0.85955 to 0.88202, saving model to effnet.model.best-weights.hdf5\n",
            "166/166 [==============================] - 19s 114ms/step - loss: 0.8038 - acc: 0.7582 - val_loss: 0.4125 - val_acc: 0.8820\n",
            "Epoch 6/50\n",
            "166/166 [==============================] - ETA: 0s - loss: 0.7159 - acc: 0.7956\n",
            "Epoch 6: val_acc did not improve from 0.88202\n",
            "166/166 [==============================] - 19s 117ms/step - loss: 0.7159 - acc: 0.7956 - val_loss: 0.4418 - val_acc: 0.8258\n",
            "Epoch 7/50\n",
            "166/166 [==============================] - ETA: 0s - loss: 0.7278 - acc: 0.7727\n",
            "Epoch 7: val_acc did not improve from 0.88202\n",
            "166/166 [==============================] - 19s 112ms/step - loss: 0.7278 - acc: 0.7727 - val_loss: 0.3830 - val_acc: 0.8596\n",
            "Epoch 8/50\n",
            "166/166 [==============================] - ETA: 0s - loss: 0.6057 - acc: 0.8126\n",
            "Epoch 8: val_acc improved from 0.88202 to 0.88764, saving model to effnet.model.best-weights.hdf5\n",
            "166/166 [==============================] - 22s 135ms/step - loss: 0.6057 - acc: 0.8126 - val_loss: 0.3709 - val_acc: 0.8876\n",
            "Epoch 9/50\n",
            "166/166 [==============================] - ETA: 0s - loss: 0.6867 - acc: 0.7956\n",
            "Epoch 9: val_acc did not improve from 0.88764\n",
            "166/166 [==============================] - 20s 120ms/step - loss: 0.6867 - acc: 0.7956 - val_loss: 0.3661 - val_acc: 0.8764\n",
            "Epoch 10/50\n",
            "166/166 [==============================] - ETA: 0s - loss: 0.6108 - acc: 0.8029\n",
            "Epoch 10: val_acc did not improve from 0.88764\n",
            "166/166 [==============================] - 19s 116ms/step - loss: 0.6108 - acc: 0.8029 - val_loss: 0.3658 - val_acc: 0.8820\n",
            "Epoch 11/50\n",
            "166/166 [==============================] - ETA: 0s - loss: 0.5160 - acc: 0.8416\n",
            "Epoch 11: val_acc did not improve from 0.88764\n",
            "166/166 [==============================] - 22s 131ms/step - loss: 0.5160 - acc: 0.8416 - val_loss: 0.3962 - val_acc: 0.8539\n",
            "Epoch 12/50\n",
            "166/166 [==============================] - ETA: 0s - loss: 0.5278 - acc: 0.8428\n",
            "Epoch 12: val_acc did not improve from 0.88764\n",
            "166/166 [==============================] - 22s 131ms/step - loss: 0.5278 - acc: 0.8428 - val_loss: 0.4254 - val_acc: 0.8820\n",
            "Epoch 13/50\n",
            "166/166 [==============================] - ETA: 0s - loss: 0.5922 - acc: 0.8186\n",
            "Epoch 13: val_acc did not improve from 0.88764\n",
            "166/166 [==============================] - 21s 126ms/step - loss: 0.5922 - acc: 0.8186 - val_loss: 0.3633 - val_acc: 0.8876\n",
            "Epoch 14/50\n",
            "166/166 [==============================] - ETA: 0s - loss: 0.5160 - acc: 0.8428\n",
            "Epoch 14: val_acc did not improve from 0.88764\n",
            "166/166 [==============================] - 19s 113ms/step - loss: 0.5160 - acc: 0.8428 - val_loss: 0.3803 - val_acc: 0.8820\n",
            "Epoch 15/50\n",
            "166/166 [==============================] - ETA: 0s - loss: 0.4709 - acc: 0.8537\n",
            "Epoch 15: val_acc did not improve from 0.88764\n",
            "166/166 [==============================] - 19s 114ms/step - loss: 0.4709 - acc: 0.8537 - val_loss: 0.3956 - val_acc: 0.8483\n",
            "Epoch 16/50\n",
            "166/166 [==============================] - ETA: 0s - loss: 0.4313 - acc: 0.8670\n",
            "Epoch 16: val_acc improved from 0.88764 to 0.90449, saving model to effnet.model.best-weights.hdf5\n",
            "166/166 [==============================] - 22s 131ms/step - loss: 0.4313 - acc: 0.8670 - val_loss: 0.2785 - val_acc: 0.9045\n",
            "Epoch 17/50\n",
            "166/166 [==============================] - ETA: 0s - loss: 0.4354 - acc: 0.8464\n",
            "Epoch 17: val_acc improved from 0.90449 to 0.91011, saving model to effnet.model.best-weights.hdf5\n",
            "166/166 [==============================] - 21s 126ms/step - loss: 0.4354 - acc: 0.8464 - val_loss: 0.3187 - val_acc: 0.9101\n",
            "Epoch 18/50\n",
            "166/166 [==============================] - ETA: 0s - loss: 0.4304 - acc: 0.8742\n",
            "Epoch 18: val_acc did not improve from 0.91011\n",
            "166/166 [==============================] - 23s 137ms/step - loss: 0.4304 - acc: 0.8742 - val_loss: 0.3159 - val_acc: 0.9045\n",
            "Epoch 19/50\n",
            "166/166 [==============================] - ETA: 0s - loss: 0.4505 - acc: 0.8609\n",
            "Epoch 19: val_acc did not improve from 0.91011\n",
            "166/166 [==============================] - 25s 150ms/step - loss: 0.4505 - acc: 0.8609 - val_loss: 0.3293 - val_acc: 0.8933\n",
            "Epoch 20/50\n",
            "166/166 [==============================] - ETA: 0s - loss: 0.4140 - acc: 0.8682\n",
            "Epoch 20: val_acc did not improve from 0.91011\n",
            "166/166 [==============================] - 22s 132ms/step - loss: 0.4140 - acc: 0.8682 - val_loss: 0.3763 - val_acc: 0.8933\n",
            "Epoch 21/50\n",
            "166/166 [==============================] - ETA: 0s - loss: 0.3916 - acc: 0.8779\n",
            "Epoch 21: val_acc improved from 0.91011 to 0.91573, saving model to effnet.model.best-weights.hdf5\n",
            "166/166 [==============================] - 27s 164ms/step - loss: 0.3916 - acc: 0.8779 - val_loss: 0.3276 - val_acc: 0.9157\n",
            "Epoch 22/50\n",
            "166/166 [==============================] - ETA: 0s - loss: 0.3600 - acc: 0.8839\n",
            "Epoch 22: val_acc did not improve from 0.91573\n",
            "166/166 [==============================] - 24s 147ms/step - loss: 0.3600 - acc: 0.8839 - val_loss: 0.4120 - val_acc: 0.8708\n",
            "Epoch 23/50\n",
            "166/166 [==============================] - ETA: 0s - loss: 0.3893 - acc: 0.8875\n",
            "Epoch 23: val_acc did not improve from 0.91573\n",
            "166/166 [==============================] - 26s 156ms/step - loss: 0.3893 - acc: 0.8875 - val_loss: 0.3715 - val_acc: 0.8820\n",
            "Epoch 24/50\n",
            "166/166 [==============================] - ETA: 0s - loss: 0.4170 - acc: 0.8803\n",
            "Epoch 24: val_acc did not improve from 0.91573\n",
            "166/166 [==============================] - 22s 132ms/step - loss: 0.4170 - acc: 0.8803 - val_loss: 0.3778 - val_acc: 0.8876\n",
            "Epoch 25/50\n",
            "166/166 [==============================] - ETA: 0s - loss: 0.3945 - acc: 0.8742\n",
            "Epoch 25: val_acc did not improve from 0.91573\n",
            "166/166 [==============================] - 23s 138ms/step - loss: 0.3945 - acc: 0.8742 - val_loss: 0.3574 - val_acc: 0.9045\n",
            "Epoch 26/50\n",
            "166/166 [==============================] - ETA: 0s - loss: 0.3293 - acc: 0.8996\n",
            "Epoch 26: val_acc did not improve from 0.91573\n",
            "166/166 [==============================] - 27s 162ms/step - loss: 0.3293 - acc: 0.8996 - val_loss: 0.3998 - val_acc: 0.8820\n",
            "Epoch 27/50\n",
            "166/166 [==============================] - ETA: 0s - loss: 0.3757 - acc: 0.8742\n",
            "Epoch 27: val_acc did not improve from 0.91573\n",
            "166/166 [==============================] - 27s 160ms/step - loss: 0.3757 - acc: 0.8742 - val_loss: 0.3263 - val_acc: 0.8876\n",
            "Epoch 28/50\n",
            "166/166 [==============================] - ETA: 0s - loss: 0.3706 - acc: 0.8851\n",
            "Epoch 28: val_acc did not improve from 0.91573\n",
            "166/166 [==============================] - 28s 170ms/step - loss: 0.3706 - acc: 0.8851 - val_loss: 0.3191 - val_acc: 0.8933\n",
            "Epoch 29/50\n",
            "166/166 [==============================] - ETA: 0s - loss: 0.3759 - acc: 0.8863\n",
            "Epoch 29: val_acc did not improve from 0.91573\n",
            "166/166 [==============================] - 20s 121ms/step - loss: 0.3759 - acc: 0.8863 - val_loss: 0.3676 - val_acc: 0.8764\n",
            "Epoch 30/50\n",
            "166/166 [==============================] - ETA: 0s - loss: 0.4034 - acc: 0.8767\n",
            "Epoch 30: val_acc did not improve from 0.91573\n",
            "166/166 [==============================] - 26s 158ms/step - loss: 0.4034 - acc: 0.8767 - val_loss: 0.2914 - val_acc: 0.9101\n",
            "Epoch 31/50\n",
            "166/166 [==============================] - ETA: 0s - loss: 0.3597 - acc: 0.8815\n",
            "Epoch 31: val_acc did not improve from 0.91573\n",
            "166/166 [==============================] - 19s 116ms/step - loss: 0.3597 - acc: 0.8815 - val_loss: 0.3112 - val_acc: 0.8989\n"
          ]
        }
      ]
    },
    {
      "cell_type": "markdown",
      "source": [
        "https://stackoverflow.com/questions/59813944/how-to-plot-training-error-and-validation-error-vs-number-of-epochs. \n",
        "\n",
        "https://stackoverflow.com/questions/54749649/how-to-plot-epoch-vs-val-acc-and-epoch-vs-val-loss-graph-in-cnn. \n"
      ],
      "metadata": {
        "id": "cDzAqxh6_OKb"
      }
    },
    {
      "cell_type": "code",
      "source": [
        "acc = eff_history.history['acc']\n",
        "val_acc = eff_history.history['val_acc']\n",
        "error = [1 - a for a in acc]\n",
        "val_error = [1 - a for a in val_acc]\n",
        "loss = eff_history.history['loss']\n",
        "val_loss = eff_history.history['val_loss']\n",
        "epochs = range(len(acc))\n",
        "\n",
        "print(\"FOR EFFICIENT NET B0 MODEL\")\n",
        "x = np.array(epochs)\n",
        "y = np.array(loss)\n",
        "plt.plot(x, y, 'b-', label = 'Training Loss')\n",
        "x1 = np.array(epochs)\n",
        "y1 = np.array(val_loss)\n",
        "plt.plot(x1, y1, 'g-', label = 'Validation Loss')\n",
        "plt.title('EfficientNetB0 Training and Validation Loss')\n",
        "plt.legend(loc = 'upper right')\n",
        "plt.xlabel('Epochs')\n",
        "plt.ylabel('Loss')\n",
        "plt.show()\n",
        "\n",
        "x = np.array(epochs)\n",
        "y = np.array(error)\n",
        "plt.plot(x, y, 'b-', label = 'Training Error')\n",
        "x1 = np.array(epochs)\n",
        "y1 = np.array(val_error)\n",
        "plt.plot(x1, y1, 'g-', label = 'Validation Error')\n",
        "plt.title('EfficientNetB0 Training and Validation Error')\n",
        "plt.legend(loc = 'upper right')\n",
        "plt.xlabel('Epochs')\n",
        "plt.ylabel('Error')\n",
        "plt.show()"
      ],
      "metadata": {
        "colab": {
          "base_uri": "https://localhost:8080/",
          "height": 591
        },
        "id": "Xq_XMtNDzbko",
        "outputId": "2812956c-1e71-454f-bded-9bddf3598421"
      },
      "execution_count": 38,
      "outputs": [
        {
          "output_type": "stream",
          "name": "stdout",
          "text": [
            "FOR EFFICIENT NET B0 MODEL\n"
          ]
        },
        {
          "output_type": "display_data",
          "data": {
            "text/plain": [
              "<Figure size 432x288 with 1 Axes>"
            ],
            "image/png": "[encoded data removed]"
          },
          "metadata": {
            "needs_background": "light"
          }
        },
        {
          "output_type": "display_data",
          "data": {
            "text/plain": [
              "<Figure size 432x288 with 1 Axes>"
            ],
            "image/png": "[encoded data removed]"
          },
          "metadata": {
            "needs_background": "light"
          }
        }
      ]
    },
    {
      "cell_type": "markdown",
      "source": [
        "https://www.activestate.com/resources/quick-reads/how-to-use-a-model-to-do-predictions-with-keras/"
      ],
      "metadata": {
        "id": "g3VO7GSEAU7E"
      }
    },
    {
      "cell_type": "code",
      "source": [
        "eff_model_b0.load_weights('effnet.model.best-weights.hdf5') \n",
        "pred = eff_model_b0.predict(test_ds)\n",
        "pred_label = pred.argmax(axis=-1)\n",
        "true_label = test_ds.classes"
      ],
      "metadata": {
        "id": "o-Z_1ySru5As",
        "colab": {
          "base_uri": "https://localhost:8080/"
        },
        "outputId": "1de6a010-14ae-4bad-8107-23a7888be8ba"
      },
      "execution_count": 27,
      "outputs": [
        {
          "output_type": "stream",
          "name": "stdout",
          "text": [
            "35/35 [==============================] - 3s 49ms/step\n"
          ]
        }
      ]
    },
    {
      "cell_type": "code",
      "source": [
        "#FOR EfficientNet10\n",
        "precision, recall, f1score, _ = precision_recall_fscore_support(true_label, pred_label, average=None)\n",
        "\n",
        "for i in range(len(precision)):\n",
        "    print(\"Class = \", i)\n",
        "    print(\"Precision = \", precision[i])\n",
        "    print(\"Recall = \", recall[i])\n",
        "    print(\"F1-score = \", f1score[i])\n",
        "    print(\" ----------------------------------  \")\n",
        "\n",
        "sm = sum(pred_label == true_label) \n",
        "accuracy = sm / len(true_label)\n",
        "print(\"Accuracy = \", accuracy)"
      ],
      "metadata": {
        "id": "rEYh0meZwF5G",
        "colab": {
          "base_uri": "https://localhost:8080/"
        },
        "outputId": "84d3cfbb-2455-4c8a-809d-b73ec110a467"
      },
      "execution_count": 28,
      "outputs": [
        {
          "output_type": "stream",
          "name": "stdout",
          "text": [
            "Class =  0\n",
            "Precision =  1.0\n",
            "Recall =  1.0\n",
            "F1-score =  1.0\n",
            " ----------------------------------  \n",
            "Class =  1\n",
            "Precision =  1.0\n",
            "Recall =  1.0\n",
            "F1-score =  1.0\n",
            " ----------------------------------  \n",
            "Class =  2\n",
            "Precision =  1.0\n",
            "Recall =  1.0\n",
            "F1-score =  1.0\n",
            " ----------------------------------  \n",
            "Class =  3\n",
            "Precision =  1.0\n",
            "Recall =  1.0\n",
            "F1-score =  1.0\n",
            " ----------------------------------  \n",
            "Class =  4\n",
            "Precision =  0.7\n",
            "Recall =  0.7777777777777778\n",
            "F1-score =  0.7368421052631577\n",
            " ----------------------------------  \n",
            "Class =  5\n",
            "Precision =  1.0\n",
            "Recall =  0.8888888888888888\n",
            "F1-score =  0.9411764705882353\n",
            " ----------------------------------  \n",
            "Class =  6\n",
            "Precision =  1.0\n",
            "Recall =  1.0\n",
            "F1-score =  1.0\n",
            " ----------------------------------  \n",
            "Class =  7\n",
            "Precision =  1.0\n",
            "Recall =  1.0\n",
            "F1-score =  1.0\n",
            " ----------------------------------  \n",
            "Class =  8\n",
            "Precision =  1.0\n",
            "Recall =  1.0\n",
            "F1-score =  1.0\n",
            " ----------------------------------  \n",
            "Class =  9\n",
            "Precision =  1.0\n",
            "Recall =  0.8888888888888888\n",
            "F1-score =  0.9411764705882353\n",
            " ----------------------------------  \n",
            "Class =  10\n",
            "Precision =  1.0\n",
            "Recall =  0.8888888888888888\n",
            "F1-score =  0.9411764705882353\n",
            " ----------------------------------  \n",
            "Class =  11\n",
            "Precision =  0.9\n",
            "Recall =  1.0\n",
            "F1-score =  0.9473684210526316\n",
            " ----------------------------------  \n",
            "Class =  12\n",
            "Precision =  1.0\n",
            "Recall =  1.0\n",
            "F1-score =  1.0\n",
            " ----------------------------------  \n",
            "Class =  13\n",
            "Precision =  1.0\n",
            "Recall =  0.8888888888888888\n",
            "F1-score =  0.9411764705882353\n",
            " ----------------------------------  \n",
            "Class =  14\n",
            "Precision =  0.8181818181818182\n",
            "Recall =  1.0\n",
            "F1-score =  0.9\n",
            " ----------------------------------  \n",
            "Class =  15\n",
            "Precision =  0.5714285714285714\n",
            "Recall =  0.5\n",
            "F1-score =  0.5333333333333333\n",
            " ----------------------------------  \n",
            "Class =  16\n",
            "Precision =  0.8888888888888888\n",
            "Recall =  1.0\n",
            "F1-score =  0.9411764705882353\n",
            " ----------------------------------  \n",
            "Class =  17\n",
            "Precision =  0.875\n",
            "Recall =  0.875\n",
            "F1-score =  0.875\n",
            " ----------------------------------  \n",
            "Class =  18\n",
            "Precision =  0.9\n",
            "Recall =  1.0\n",
            "F1-score =  0.9473684210526316\n",
            " ----------------------------------  \n",
            "Class =  19\n",
            "Precision =  1.0\n",
            "Recall =  0.875\n",
            "F1-score =  0.9333333333333333\n",
            " ----------------------------------  \n",
            "Accuracy =  0.9298245614035088\n"
          ]
        }
      ]
    },
    {
      "cell_type": "code",
      "source": [],
      "metadata": {
        "id": "uN0WPEgeNhIG"
      },
      "execution_count": 26,
      "outputs": []
    }
  ]
}